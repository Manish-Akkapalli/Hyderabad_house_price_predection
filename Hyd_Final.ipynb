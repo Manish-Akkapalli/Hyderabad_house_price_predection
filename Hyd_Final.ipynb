{
 "cells": [
  {
   "cell_type": "markdown",
   "metadata": {},
   "source": [
    "# Machine learning Project: Hyderabad House price prediction\n"
   ]
  },
  {
   "cell_type": "code",
   "execution_count": 1,
   "metadata": {},
   "outputs": [],
   "source": [
    "import pandas as pd\n",
    "import numpy as np\n",
    "from matplotlib import pyplot as plt\n",
    "%matplotlib inline\n",
    "import matplotlib \n",
    "matplotlib.rcParams[\"figure.figsize\"] = (20,10)\n"
   ]
  },
  {
   "cell_type": "markdown",
   "metadata": {},
   "source": [
    "**ReadingData from Excel file**"
   ]
  },
  {
   "cell_type": "code",
   "execution_count": 4,
   "metadata": {},
   "outputs": [
    {
     "data": {
      "text/html": [
       "<div>\n",
       "<style scoped>\n",
       "    .dataframe tbody tr th:only-of-type {\n",
       "        vertical-align: middle;\n",
       "    }\n",
       "\n",
       "    .dataframe tbody tr th {\n",
       "        vertical-align: top;\n",
       "    }\n",
       "\n",
       "    .dataframe thead th {\n",
       "        text-align: right;\n",
       "    }\n",
       "</style>\n",
       "<table border=\"1\" class=\"dataframe\">\n",
       "  <thead>\n",
       "    <tr style=\"text-align: right;\">\n",
       "      <th></th>\n",
       "      <th>location</th>\n",
       "      <th>price</th>\n",
       "      <th>total_sqft</th>\n",
       "      <th>bhk</th>\n",
       "      <th>bathroom</th>\n",
       "      <th>index</th>\n",
       "    </tr>\n",
       "  </thead>\n",
       "  <tbody>\n",
       "    <tr>\n",
       "      <th>0</th>\n",
       "      <td>Kollur</td>\n",
       "      <td>2799000</td>\n",
       "      <td>1000</td>\n",
       "      <td>2</td>\n",
       "      <td>2</td>\n",
       "      <td>1</td>\n",
       "    </tr>\n",
       "    <tr>\n",
       "      <th>1</th>\n",
       "      <td>Gandimaisamma</td>\n",
       "      <td>2619000</td>\n",
       "      <td>970</td>\n",
       "      <td>2</td>\n",
       "      <td>2</td>\n",
       "      <td>2</td>\n",
       "    </tr>\n",
       "    <tr>\n",
       "      <th>2</th>\n",
       "      <td>Manikonda</td>\n",
       "      <td>6661000</td>\n",
       "      <td>1448</td>\n",
       "      <td>3</td>\n",
       "      <td>3</td>\n",
       "      <td>3</td>\n",
       "    </tr>\n",
       "    <tr>\n",
       "      <th>3</th>\n",
       "      <td>Krishna Reddy Pet</td>\n",
       "      <td>3483000</td>\n",
       "      <td>1161</td>\n",
       "      <td>2</td>\n",
       "      <td>2</td>\n",
       "      <td>4</td>\n",
       "    </tr>\n",
       "    <tr>\n",
       "      <th>4</th>\n",
       "      <td>Nizampet</td>\n",
       "      <td>7931000</td>\n",
       "      <td>1555</td>\n",
       "      <td>3</td>\n",
       "      <td>3</td>\n",
       "      <td>5</td>\n",
       "    </tr>\n",
       "    <tr>\n",
       "      <th>5</th>\n",
       "      <td>Nizampet</td>\n",
       "      <td>6120000</td>\n",
       "      <td>1200</td>\n",
       "      <td>2</td>\n",
       "      <td>2</td>\n",
       "      <td>6</td>\n",
       "    </tr>\n",
       "    <tr>\n",
       "      <th>6</th>\n",
       "      <td>Hi-Tech City</td>\n",
       "      <td>19200000</td>\n",
       "      <td>3000</td>\n",
       "      <td>4</td>\n",
       "      <td>4</td>\n",
       "      <td>7</td>\n",
       "    </tr>\n",
       "    <tr>\n",
       "      <th>7</th>\n",
       "      <td>Bachupally</td>\n",
       "      <td>14600000</td>\n",
       "      <td>1873</td>\n",
       "      <td>3</td>\n",
       "      <td>3</td>\n",
       "      <td>8</td>\n",
       "    </tr>\n",
       "    <tr>\n",
       "      <th>8</th>\n",
       "      <td>Mokila</td>\n",
       "      <td>8809000</td>\n",
       "      <td>1421</td>\n",
       "      <td>2</td>\n",
       "      <td>2</td>\n",
       "      <td>9</td>\n",
       "    </tr>\n",
       "    <tr>\n",
       "      <th>9</th>\n",
       "      <td>Mokila</td>\n",
       "      <td>8809000</td>\n",
       "      <td>1421</td>\n",
       "      <td>3</td>\n",
       "      <td>3</td>\n",
       "      <td>10</td>\n",
       "    </tr>\n",
       "    <tr>\n",
       "      <th>10</th>\n",
       "      <td>Gachibowli</td>\n",
       "      <td>9959000</td>\n",
       "      <td>1645</td>\n",
       "      <td>3</td>\n",
       "      <td>3</td>\n",
       "      <td>11</td>\n",
       "    </tr>\n",
       "    <tr>\n",
       "      <th>11</th>\n",
       "      <td>Indra Reddy Allwyn Colony</td>\n",
       "      <td>8500000</td>\n",
       "      <td>1620</td>\n",
       "      <td>3</td>\n",
       "      <td>3</td>\n",
       "      <td>12</td>\n",
       "    </tr>\n",
       "    <tr>\n",
       "      <th>12</th>\n",
       "      <td>Boduppal</td>\n",
       "      <td>5071000</td>\n",
       "      <td>1268</td>\n",
       "      <td>3</td>\n",
       "      <td>2</td>\n",
       "      <td>13</td>\n",
       "    </tr>\n",
       "    <tr>\n",
       "      <th>13</th>\n",
       "      <td>Miyapur</td>\n",
       "      <td>8045000</td>\n",
       "      <td>1676</td>\n",
       "      <td>3</td>\n",
       "      <td>3</td>\n",
       "      <td>14</td>\n",
       "    </tr>\n",
       "    <tr>\n",
       "      <th>14</th>\n",
       "      <td>Miyapur</td>\n",
       "      <td>8200000</td>\n",
       "      <td>1650</td>\n",
       "      <td>3</td>\n",
       "      <td>3</td>\n",
       "      <td>15</td>\n",
       "    </tr>\n",
       "    <tr>\n",
       "      <th>15</th>\n",
       "      <td>Hi-Tech City</td>\n",
       "      <td>12800000</td>\n",
       "      <td>2000</td>\n",
       "      <td>3</td>\n",
       "      <td>3</td>\n",
       "      <td>16</td>\n",
       "    </tr>\n",
       "    <tr>\n",
       "      <th>16</th>\n",
       "      <td>Kondapur</td>\n",
       "      <td>9779000</td>\n",
       "      <td>1686</td>\n",
       "      <td>3</td>\n",
       "      <td>3</td>\n",
       "      <td>17</td>\n",
       "    </tr>\n",
       "    <tr>\n",
       "      <th>17</th>\n",
       "      <td>Nanakramguda</td>\n",
       "      <td>9725000</td>\n",
       "      <td>1245</td>\n",
       "      <td>2</td>\n",
       "      <td>2</td>\n",
       "      <td>18</td>\n",
       "    </tr>\n",
       "    <tr>\n",
       "      <th>18</th>\n",
       "      <td>Manikonda</td>\n",
       "      <td>10300000</td>\n",
       "      <td>1805</td>\n",
       "      <td>3</td>\n",
       "      <td>3</td>\n",
       "      <td>19</td>\n",
       "    </tr>\n",
       "    <tr>\n",
       "      <th>19</th>\n",
       "      <td>Miyapur</td>\n",
       "      <td>6230000</td>\n",
       "      <td>1298</td>\n",
       "      <td>2</td>\n",
       "      <td>2</td>\n",
       "      <td>20</td>\n",
       "    </tr>\n",
       "  </tbody>\n",
       "</table>\n",
       "</div>"
      ],
      "text/plain": [
       "                     location     price  total_sqft  bhk  bathroom  index\n",
       "0                      Kollur   2799000        1000    2         2      1\n",
       "1               Gandimaisamma   2619000         970    2         2      2\n",
       "2                   Manikonda   6661000        1448    3         3      3\n",
       "3           Krishna Reddy Pet   3483000        1161    2         2      4\n",
       "4                    Nizampet   7931000        1555    3         3      5\n",
       "5                    Nizampet   6120000        1200    2         2      6\n",
       "6                Hi-Tech City  19200000        3000    4         4      7\n",
       "7                  Bachupally  14600000        1873    3         3      8\n",
       "8                      Mokila   8809000        1421    2         2      9\n",
       "9                      Mokila   8809000        1421    3         3     10\n",
       "10                 Gachibowli   9959000        1645    3         3     11\n",
       "11  Indra Reddy Allwyn Colony   8500000        1620    3         3     12\n",
       "12                   Boduppal   5071000        1268    3         2     13\n",
       "13                    Miyapur   8045000        1676    3         3     14\n",
       "14                    Miyapur   8200000        1650    3         3     15\n",
       "15               Hi-Tech City  12800000        2000    3         3     16\n",
       "16                   Kondapur   9779000        1686    3         3     17\n",
       "17               Nanakramguda   9725000        1245    2         2     18\n",
       "18                  Manikonda  10300000        1805    3         3     19\n",
       "19                    Miyapur   6230000        1298    2         2     20"
      ]
     },
     "execution_count": 4,
     "metadata": {},
     "output_type": "execute_result"
    }
   ],
   "source": [
    "df1 = pd.read_excel(\"house.xlsx\")\n",
    "df1.head(20)"
   ]
  },
  {
   "cell_type": "code",
   "execution_count": 5,
   "metadata": {},
   "outputs": [
    {
     "data": {
      "text/plain": [
       "(7193, 6)"
      ]
     },
     "execution_count": 5,
     "metadata": {},
     "output_type": "execute_result"
    }
   ],
   "source": [
    "df1.shape #used to print no.of rows and columns in the table\n"
   ]
  },
  {
   "cell_type": "code",
   "execution_count": 7,
   "metadata": {},
   "outputs": [
    {
     "data": {
      "text/plain": [
       "array(['Kollur', 'Gandimaisamma', 'Manikonda', 'Krishna Reddy Pet',\n",
       "       'Nizampet', 'Hi-Tech City', 'Bachupally', 'Mokila', 'Gachibowli',\n",
       "       'Indra Reddy Allwyn Colony', 'Boduppal', 'Miyapur', 'Kondapur',\n",
       "       'Nanakramguda', 'Puppalaguda', 'Bandlaguda', 'Kukatpally',\n",
       "       'Hafeezpet', 'Mallampet', 'Madinaguda', 'Suraram', 'Adibatla',\n",
       "       'Gopanpally', 'Narsingi', 'Nagole', 'Gajulramaram', 'Attapur',\n",
       "       'Kismathpur', 'Aminpur', 'Tukkuguda', 'Begumpet', 'Appa Junction',\n",
       "       'Vishali Nagar', 'Financial District', 'Chikkadapally', 'Shaikpet',\n",
       "       'Munganoor', 'Gandipet', 'Pragati Nagar', 'Venkatraya Nagar',\n",
       "       'Tellapur', 'Patancheru', 'Kompally', 'Nallagandla', 'Khajaguda',\n",
       "       'Peerzadiguda', 'Narapally', 'Eadulabad, Ghatkesar', 'Lingampally',\n",
       "       'Banjara hills', 'Nallakunta', 'Vidya nagar', 'Pocharam',\n",
       "       'Kundanpally', 'Cooperative Bank Colony', 'Hayathnagar', 'Kokapet',\n",
       "       'Budvel', 'Nagaram', 'gundlapochampally', 'BHEL', 'Rajendra Nagar',\n",
       "       'B.N reddy nagar', 'Amba Gardens', 'Vittal Rao Nagar',\n",
       "       'Whitefield', 'Dundigal', 'Manneguda', 'Kavuri Hills',\n",
       "       'Chandanagar', 'Hayat nagar', 'Devender Colony', 'Aushapur',\n",
       "       'Masjid Banda', 'Kothapet', 'Osman Nagar', 'Madhapur',\n",
       "       'Beeramguda', 'Somajiguda', 'Sun City', 'IDPL Colony', 'Badangpet',\n",
       "       'Bahadurpally', 'Shilpa Nagar', 'Parwathapur Near Uppal',\n",
       "       'Swarnapuri', 'Ambedkar Nagar', 'Isnapur', 'Gandhamguda',\n",
       "       'Sri Sai Baba Nagar Colony', 'Ameerpet', 'Camelot Layout',\n",
       "       'Alkapuri', 'KPHB', 'Velimela', 'Prakash Nagar',\n",
       "       'BHEL National Highway', 'kompalli', 'Moosapet', 'Kailash Hills',\n",
       "       'Malakpet', 'Bandam Kommu', 'kompally near by dulapalli',\n",
       "       'AMMENPUR', 'Bowrampet', 'Dullapally', 'Rudraram', 'Jubilee Hills',\n",
       "       'Bagh Amberpet', 'Turkayanmjal', 'ramnagar', 'Ragannaguda',\n",
       "       'Vayu Puri', 'Kapra', 'Srinivasa Nagar', 'Bollaram',\n",
       "       'New Nallakunta', 'Patelguda', 'Vanasthalipuram', 'Shamshabad',\n",
       "       'D.D. Colony', 'ECIL', 'Kothaguda', 'Saroor nagar', 'Maheshwaram',\n",
       "       'Shilpa Hills', 'Annaram', 'Timberlake Colony',\n",
       "       'Raghavendra Colony', 'Panchavati Colony', 'Laxmiguda',\n",
       "       'Almas guda', 'Mohan Nagar', 'Secunderabad', 'Kings Colony',\n",
       "       'Golden Heights Colony', 'Sangareddy', 'Gopanapalli Thanda',\n",
       "       'Jeedimetla', 'Medipally', 'Brindavan Colony', 'Ramchandrapuram',\n",
       "       'Indian Airlines Colony', 'Parvathapur', 'Nagarjuna Sagar Road',\n",
       "       'Se10000000etariat Colony', 'Hanuman Nagar', 'Allwyn Colony',\n",
       "       'Srinivasapuram Colony Vanasthallipuram', 'Suncity',\n",
       "       'Hanuman Nagar Colony', 'Chaitanyapuri', 'kolluru', 'Vellimela',\n",
       "       'near by patancheruvu', 'Kollur Village', 'Fab City',\n",
       "       'Serlingampally', 'Matrusri Nagar', 'Dilsukh Nagar', 'Mansoorabad',\n",
       "       'Muppas Panchavati Colony', 'Padmanagar Phase II', 'Gandhi Nagar',\n",
       "       'P Janardhan Reddy Nagar', 'Syed Nagar', 'Baghlingampally',\n",
       "       'Mini Gulshan Colony', 'Tilak Nagar', 'Shivam Road', 'Neknampur',\n",
       "       'Ramnagar', 'Shankarpally', 'Mouryas Ranga Prasad Avenue',\n",
       "       'Vivek Nagar', 'Mallapur', 'Senore Colony', 'Sri Nagar Colony',\n",
       "       'Harithavanam Colony', 'OU Colony', 'Shirdi Sai Nagar',\n",
       "       'Anand Bagh', 'Moinabad', 'Hyder Nagar', 'Hussaini Alam',\n",
       "       'Old alwal', 'New Mallepally', 'Jawahar nagar', 'Jahanuma',\n",
       "       'Aziz Nagar', 'Madhuban Colony', 'LB Nagar', 'BS Maktha',\n",
       "       'Tolichowki', 'Malkajgiri', 'Resham Bagh', 'Izzat Nagar',\n",
       "       'Ramanthapur', 'Sri Balaji Layout', 'Moti Nagar',\n",
       "       'Gouthami Enclave', 'Karmanghat', 'Ammenpur', 'Srinivasa Colony',\n",
       "       'Lakdi-Ka-Pool', 'Balapur', 'Czech Colony',\n",
       "       'bandari layout, nizampet', 'Balaji Hills Colony',\n",
       "       'Vijaya Nagar Colony', 'Friends Colony',\n",
       "       'Se10000000etariat Employees Colony', 'New Maruthi Nagar',\n",
       "       'East Maruti Nagar', 'Lanco Hills', 'Vasanth Nagar Colony',\n",
       "       'Gokhale Nagar', 'manikya nagar', 'Subhash Nagar',\n",
       "       'Doctors Colony', 'Red Hills', 'Moosarambagh', 'Defence Colony',\n",
       "       'kuntloor', 'Turkapally', 'Gangaram', 'Rocktown Colony',\n",
       "       'New Malakpet', 'Mamatha Nagar Colony', 'Maruthi Nagar',\n",
       "       'Annojiguda', 'Allauddin Basthi', 'Salarjung Colony',\n",
       "       'Krishnaja Hills', 'HMT Swarnapuri Colony', 'Vasantha Nagar',\n",
       "       'S.R. Nagar', 'Yadavareddy Nagar', 'King koti', 'Pragathi Enclave',\n",
       "       'Rajarajeshwari Nagar', 'Mallika Arjun Nagar', 'Sabza Colony',\n",
       "       'TurkaYamjal', 'Arunodaya Colony', 'Erragadda', 'Himayat Nagar',\n",
       "       'Kistareddypet', 'APSRTC Officers Colony', 'Saidabad',\n",
       "       'Pedda Amberpet', 'Saleem Nagar', 'Srisailam Highway', 'Meerpet',\n",
       "       'Journalist Colony', 'Ganesh Nagar', 'Jalapalli',\n",
       "       'Vivekananda Nagar', 'Bagh Ameer', 'Amberpet', 'Aziz Bagh Colony',\n",
       "       'Old Bowenpally', 'Muthangi', 'Hastinapuram', 'Bandari Layout',\n",
       "       'Saroor Nagar West', 'Panchavati Layout', 'Hydershakote',\n",
       "       'NGO Colony', 'Gagan Mahal', 'Peeramcheru', 'Nadargul',\n",
       "       'Dwarakapuri', 'Humayunagar', 'Yellareddyguda', 'Mythri Nagar',\n",
       "       'Madhura Nagar', 'Sri Ram Nagar Colony', 'khairatabad',\n",
       "       'Srinagar Colony', 'Upparpally', 'Vengalarao Nagar',\n",
       "       'Balaji Nagar', 'Mehdipatnam', 'Navodaya Colony', 'Gurram Guda',\n",
       "       'JB Colony', 'Pet Bashirabad', 'Borabanda', 'Kakatiyanagar',\n",
       "       'Bhola Nagar', 'Golconda Fort Area', 'Anand Nagar Colony',\n",
       "       'Leelanagar', 'Punjagutta', 'Alkapuri Colony', 'Qutbullapur',\n",
       "       'Prakasam Pantulu Nagar', 'Goutami Enclave', 'Rukminipuri Colony',\n",
       "       'Gokul Plots', 'Tatianaram', 'YousufGuda', 'Kishan bagh',\n",
       "       'Satyanagar', 'Adarsh Nagar', 'Alluri Seetha Ramaraju Nagar',\n",
       "       'Kolluru', 'Old Malakpet', 'Basheer Bagh', 'Narayanguda',\n",
       "       'chandrayangutta', 'Shaheen Nagar', 'Bahadurpura', 'Katedhan',\n",
       "       'Krishna Nagar', 'Bongulur', 'Injapur', 'HMT Hills',\n",
       "       'Begum Bazaar', 'Attapur Ring Road', 'Langer House', 'Huda Colony',\n",
       "       'Kachiguda', 'barkatpura', 'Huda Layout', 'Mayuri Nagar',\n",
       "       'Falaknuma', 'Venkatagiri', 'B.K.Guda', 'IS SADAN', 'IS Sadan',\n",
       "       'Snehapuri Colony', 'Vattepally', 'Fateh Nagar', 'Azampura',\n",
       "       'Dammaiguda', 'Padmanagar Phase 1', 'lbnagar', 'Kurmaguda',\n",
       "       'Nampally', 'Bazar Ghat', 'P And T Colony, Bandlaguda jagir',\n",
       "       'Dynamics Colony', 'Chaderghat', 'Khayyam Nagar', 'Jodimetla',\n",
       "       'Safari Nagar', 'Abids', 'Bolligudem', 'Zahara Nagar',\n",
       "       'Ayodhya Nagar Colony', 'Aramghar', 'Shad nagar', 'Kundanbagh',\n",
       "       'Jagatgiri gutta', 'JNTU', 'Anjaneya Nagar', 'Sayeedabad Colony',\n",
       "       'Prashanth Nagar', 'Diamond Hills', 'Chintalmet', 'Rakshapuram',\n",
       "       'New Santoshnagar', 'Balanagar', 'Dharam Karan Road',\n",
       "       'Gun Foundry', 'KTR Colony', 'Bairagiguda', 'RK Puram',\n",
       "       'Chanchalguda', 'Manchirevula Village', 'Hafiz Baba Nagar',\n",
       "       'Jai Jawan Colony', 'Bhavanipuram Colony', 'Dabeerpura', 'Jambagh',\n",
       "       'Ranga Reddy', 'Hyderguda', 'Kakatiya Hills', 'Dayanand Nagar',\n",
       "       'Swarnadhama Nagar', 'Masab Tank', 'Panchayatiraj Teachers Colony',\n",
       "       'Kamalapuri Colony', 'Deeptishree Nagar', 'Rn Reddy Nagar',\n",
       "       'Hanuman Tekdi', 'PJR Layout', 'Sangeet Nagar', 'Addagutta',\n",
       "       'Neredmet', 'Suleman Nagar', 'Balkampet', 'Jagruthi Colony',\n",
       "       'Yellamma Banda', 'Santosh Nagar', 'Uma Nagar',\n",
       "       'Bandari Layout, Nizampet', 'Balreddy Nagar', 'Mahadevpur Colony',\n",
       "       'Deepthisri Nagar', 'Vivekanand Nagar', 'International Airport',\n",
       "       'Asmangarh', 'Arunodaya Nagar Colony', 'Rudaram',\n",
       "       'Chandrapuri Colony', 'Saheb Nagar', 'Rakshapuram Colony',\n",
       "       'Champapet', 'Ramkote', 'Sindhi Colony', 'Pahadi Sharif',\n",
       "       'Happy Homes Colony', 'Ramakrishnapuram', 'Ram Nagar',\n",
       "       'Sardar Patel Nagar', 'Uppu Guda', 'Kalyan nagar', 'Canara Nagar',\n",
       "       'Tulasi Nagar', 'Gayathri Nagar Colony', 'New Balaji Nagar',\n",
       "       'Jaya Nagar', 'RTC Colony', 'HUDA', 'Chaitanya Enclave',\n",
       "       'Janardana Hills', 'RN Reddy Colony', 'Sanjeeva Reddy Nagar',\n",
       "       'Mallikarjuna Nagar', 'Mailardevpally', 'Murad Nagar', 'Hakimpet',\n",
       "       'Korremula', 'Abdullapurmet', 'Jayapuri Colony', 'Shamshiguda',\n",
       "       'Bhagya Nagar Colony', 'Ram Nagar Gundu', 'Shivarampally',\n",
       "       'Telecom Nagar', 'Sri Sai Janachithanya Colony', 'Laxmi Nagar',\n",
       "       'Hasthinapuram Central', 'Potti Sriramulu Nagar',\n",
       "       'Rhoda Mistri Nagar', 'Laxmi Nagar Colony', 'Gowlipura',\n",
       "       'Sai Nagar', 'Santoshnagar', 'Yerrakunta', 'Sri Rangapuram Colony',\n",
       "       'Jai Bharat Nagar', 'Rahmat Nagar', 'Asif Nagar', 'Yapral',\n",
       "       'Riyasat Nagar', 'Central Excise Colony', 'Panjagutta',\n",
       "       'Madhavi Nagar', 'Tejaswi Nagar', 'Musheerabad', 'Chowdhariguda',\n",
       "       'Chanakyapuri', 'Kanchan Bagh', 'Golkonda', 'Domalguda',\n",
       "       'West End Colony', 'Raja Nagar', 'Kandlakoya', 'Jillelguda',\n",
       "       'Mohammed Nagar', 'Sanath Nagar', 'Srinivasa Nagar Colony',\n",
       "       'Bentoubavdi', 'Widia Colony', 'Edi Bazaar', 'Kakaguda',\n",
       "       'P&T Colony', 'Ramoji Film city', 'Vasavi Colony', 'Moulali',\n",
       "       'Cheeriyal', 'Errakunta', 'Gaddi Annaram', 'Talab Katta',\n",
       "       'Self Finance Colony', 'Bikshapathi Nagar', 'Kantha Reddy Nagar',\n",
       "       'Salala Barkas', 'Papireddy Nagar', 'Nandanavanam Colony',\n",
       "       'Chitkul', 'Aaditya Nagar', 'Naveen Nagar', 'Nawab Saheb Kunta',\n",
       "       'Bagh Lingampally', 'RTC,X Road', 'Gowliguda', 'Bakaram',\n",
       "       'Film Nagar', 'Ashok Nagar', 'Telephone colony', 'Charminar',\n",
       "       'Sriram Nagar', 'dammaiguda', 'New Dilsukh Nagar Colony',\n",
       "       'Sri Laxmi Nagar Colony', 'Gulshan Colony', 'gurramguda',\n",
       "       'MLR Colony', 'Indira Nagar', 'suncity', 'Nimboli Adda',\n",
       "       'Dena Bank Colony', 'Chinthal', 'Gokul plots', 'Mithila Nagar',\n",
       "       'old alwal', 'Gundlapochampally',\n",
       "       'p and t colony, bandlaguda jagir', 'moulali', 'Misri Gunj',\n",
       "       'Rail Vihar', 'Yakutpura', 'Old Nallakunta', 'bolligudem',\n",
       "       'Sheriguda', 'Chintalkunta', 'Shalibanda',\n",
       "       'Sudarshan Nagar Colony', 'Chilkuru', 'Akbar Hills', 'Gurramguda',\n",
       "       'Madannapet Colony', 'Chandulal Baradari', 'Paparayadu Nagar',\n",
       "       'Bandari layout', 'Padmarao Nagar', 'Narsapur', 'Gagillapur',\n",
       "       'Hyderabad to Bijapur highway chevella', 'padmarao nagar',\n",
       "       'Noor Khan Bazar', 'Deluxe Colony', 'Sahebnagar vanasthalipuram',\n",
       "       'Sahebnagar Vanasthalipuram', 'Gudimalkapur', 'shapurnagar',\n",
       "       'Old Alwal', 'Yousufguda', 'Secretariat Colony'], dtype=object)"
      ]
     },
     "execution_count": 7,
     "metadata": {},
     "output_type": "execute_result"
    }
   ],
   "source": [
    "df1['location'].unique() #finding out unique location names "
   ]
  },
  {
   "cell_type": "code",
   "execution_count": 8,
   "metadata": {},
   "outputs": [
    {
     "data": {
      "text/plain": [
       "Beeramguda                    256\n",
       "Gachibowli                    240\n",
       "Kondapur                      232\n",
       "Bachupally                    231\n",
       "Manikonda                     178\n",
       "                             ... \n",
       "Sahebnagar vanasthalipuram      1\n",
       "Padmarao Nagar                  1\n",
       "Bandari layout                  1\n",
       "AMMENPUR                        1\n",
       "bandari layout, nizampet        1\n",
       "Name: location, Length: 554, dtype: int64"
      ]
     },
     "execution_count": 8,
     "metadata": {},
     "output_type": "execute_result"
    }
   ],
   "source": [
    "df1['location'].value_counts()"
   ]
  },
  {
   "cell_type": "code",
   "execution_count": 9,
   "metadata": {},
   "outputs": [
    {
     "data": {
      "text/plain": [
       "(7193, 5)"
      ]
     },
     "execution_count": 9,
     "metadata": {},
     "output_type": "execute_result"
    }
   ],
   "source": [
    "df2=df1.drop(['index'],axis='columns') #drop unnecessary coloums\n",
    "df2.shape"
   ]
  },
  {
   "cell_type": "markdown",
   "metadata": {},
   "source": [
    "# Data Cleaning: Handle NA values\n"
   ]
  },
  {
   "cell_type": "code",
   "execution_count": 10,
   "metadata": {},
   "outputs": [
    {
     "data": {
      "text/plain": [
       "location      0\n",
       "price         0\n",
       "total_sqft    0\n",
       "bhk           0\n",
       "bathroom      0\n",
       "dtype: int64"
      ]
     },
     "execution_count": 10,
     "metadata": {},
     "output_type": "execute_result"
    }
   ],
   "source": [
    "df2.isnull().sum() #to check for any empty or null values in the data"
   ]
  },
  {
   "cell_type": "code",
   "execution_count": 11,
   "metadata": {},
   "outputs": [
    {
     "data": {
      "text/plain": [
       "array([ 2,  3,  4,  5,  1,  6,  8,  7, 16, 12, 10, 14, 15,  9, 11, 20, 22,\n",
       "       27, 13, 24], dtype=int64)"
      ]
     },
     "execution_count": 11,
     "metadata": {},
     "output_type": "execute_result"
    }
   ],
   "source": [
    "df2.bhk.unique()"
   ]
  },
  {
   "cell_type": "code",
   "execution_count": 12,
   "metadata": {},
   "outputs": [
    {
     "data": {
      "text/html": [
       "<div>\n",
       "<style scoped>\n",
       "    .dataframe tbody tr th:only-of-type {\n",
       "        vertical-align: middle;\n",
       "    }\n",
       "\n",
       "    .dataframe tbody tr th {\n",
       "        vertical-align: top;\n",
       "    }\n",
       "\n",
       "    .dataframe thead th {\n",
       "        text-align: right;\n",
       "    }\n",
       "</style>\n",
       "<table border=\"1\" class=\"dataframe\">\n",
       "  <thead>\n",
       "    <tr style=\"text-align: right;\">\n",
       "      <th></th>\n",
       "      <th>location</th>\n",
       "      <th>price</th>\n",
       "      <th>total_sqft</th>\n",
       "      <th>bhk</th>\n",
       "      <th>bathroom</th>\n",
       "      <th>price_per_sqft</th>\n",
       "    </tr>\n",
       "  </thead>\n",
       "  <tbody>\n",
       "    <tr>\n",
       "      <th>0</th>\n",
       "      <td>Kollur</td>\n",
       "      <td>2799000</td>\n",
       "      <td>1000</td>\n",
       "      <td>2</td>\n",
       "      <td>2</td>\n",
       "      <td>2799.000000</td>\n",
       "    </tr>\n",
       "    <tr>\n",
       "      <th>1</th>\n",
       "      <td>Gandimaisamma</td>\n",
       "      <td>2619000</td>\n",
       "      <td>970</td>\n",
       "      <td>2</td>\n",
       "      <td>2</td>\n",
       "      <td>2700.000000</td>\n",
       "    </tr>\n",
       "    <tr>\n",
       "      <th>2</th>\n",
       "      <td>Manikonda</td>\n",
       "      <td>6661000</td>\n",
       "      <td>1448</td>\n",
       "      <td>3</td>\n",
       "      <td>3</td>\n",
       "      <td>4600.138122</td>\n",
       "    </tr>\n",
       "    <tr>\n",
       "      <th>3</th>\n",
       "      <td>Krishna Reddy Pet</td>\n",
       "      <td>3483000</td>\n",
       "      <td>1161</td>\n",
       "      <td>2</td>\n",
       "      <td>2</td>\n",
       "      <td>3000.000000</td>\n",
       "    </tr>\n",
       "    <tr>\n",
       "      <th>4</th>\n",
       "      <td>Nizampet</td>\n",
       "      <td>7931000</td>\n",
       "      <td>1555</td>\n",
       "      <td>3</td>\n",
       "      <td>3</td>\n",
       "      <td>5100.321543</td>\n",
       "    </tr>\n",
       "  </tbody>\n",
       "</table>\n",
       "</div>"
      ],
      "text/plain": [
       "            location    price  total_sqft  bhk  bathroom  price_per_sqft\n",
       "0             Kollur  2799000        1000    2         2     2799.000000\n",
       "1      Gandimaisamma  2619000         970    2         2     2700.000000\n",
       "2          Manikonda  6661000        1448    3         3     4600.138122\n",
       "3  Krishna Reddy Pet  3483000        1161    2         2     3000.000000\n",
       "4           Nizampet  7931000        1555    3         3     5100.321543"
      ]
     },
     "execution_count": 12,
     "metadata": {},
     "output_type": "execute_result"
    }
   ],
   "source": [
    "df3 = df2.copy()\n",
    "df3['price_per_sqft'] = df3['price']/df3['total_sqft'] #creating a new column for \"price per sq.ft\"\n",
    "df3.head()"
   ]
  },
  {
   "cell_type": "code",
   "execution_count": 13,
   "metadata": {},
   "outputs": [
    {
     "data": {
      "text/plain": [
       "554"
      ]
     },
     "execution_count": 13,
     "metadata": {},
     "output_type": "execute_result"
    }
   ],
   "source": [
    "len(df3.location.unique())"
   ]
  },
  {
   "cell_type": "code",
   "execution_count": 14,
   "metadata": {},
   "outputs": [
    {
     "data": {
      "text/plain": [
       "Beeramguda                    256\n",
       "Gachibowli                    240\n",
       "Kondapur                      232\n",
       "Bachupally                    231\n",
       "Manikonda                     178\n",
       "                             ... \n",
       "Sahebnagar vanasthalipuram      1\n",
       "Padmarao Nagar                  1\n",
       "Bandari layout                  1\n",
       "AMMENPUR                        1\n",
       "bandari layout, nizampet        1\n",
       "Name: location, Length: 554, dtype: int64"
      ]
     },
     "execution_count": 14,
     "metadata": {},
     "output_type": "execute_result"
    }
   ],
   "source": [
    "df3.location = df3.location.apply(lambda x: x.strip()) #to remove any white spaces in location coulumn\n",
    "location_stats = df3['location'].value_counts(ascending=False)\n",
    "location_stats"
   ]
  },
  {
   "cell_type": "markdown",
   "metadata": {},
   "source": [
    "# Dimensionality Reduction"
   ]
  },
  {
   "cell_type": "markdown",
   "metadata": {},
   "source": [
    "**Any location having less than 4 data points should be tagged as \"other\" location. This way number of categories can be reduced by huge amount. Later on when we do one hot encoding, it will help us with having fewer dummy columns**"
   ]
  },
  {
   "cell_type": "code",
   "execution_count": 15,
   "metadata": {},
   "outputs": [
    {
     "data": {
      "text/plain": [
       "554"
      ]
     },
     "execution_count": 15,
     "metadata": {},
     "output_type": "execute_result"
    }
   ],
   "source": [
    "len(location_stats[location_stats]>4) #finding no.of location which occur less than 4 times in data\n"
   ]
  },
  {
   "cell_type": "code",
   "execution_count": 16,
   "metadata": {},
   "outputs": [
    {
     "data": {
      "text/plain": [
       "Diamond Hills                 4\n",
       "kolluru                       4\n",
       "Jahanuma                      4\n",
       "RN Reddy Colony               4\n",
       "Old Malakpet                  4\n",
       "                             ..\n",
       "Sahebnagar vanasthalipuram    1\n",
       "Padmarao Nagar                1\n",
       "Bandari layout                1\n",
       "AMMENPUR                      1\n",
       "bandari layout, nizampet      1\n",
       "Name: location, Length: 289, dtype: int64"
      ]
     },
     "execution_count": 16,
     "metadata": {},
     "output_type": "execute_result"
    }
   ],
   "source": [
    "location_stats_less_than_4 = location_stats[location_stats<=4]\n",
    "location_stats_less_than_4"
   ]
  },
  {
   "cell_type": "code",
   "execution_count": 17,
   "metadata": {},
   "outputs": [
    {
     "data": {
      "text/plain": [
       "554"
      ]
     },
     "execution_count": 17,
     "metadata": {},
     "output_type": "execute_result"
    }
   ],
   "source": [
    "len(df3.location.unique())"
   ]
  },
  {
   "cell_type": "code",
   "execution_count": 18,
   "metadata": {},
   "outputs": [
    {
     "data": {
      "text/plain": [
       "266"
      ]
     },
     "execution_count": 18,
     "metadata": {},
     "output_type": "execute_result"
    }
   ],
   "source": [
    "df3.location = df3.location.apply(lambda x: 'other' if x in location_stats_less_than_4 else x) #if a location occurs less than 4 times its marked as others for easy usability \n",
    "len(df3.location.unique())"
   ]
  },
  {
   "cell_type": "markdown",
   "metadata": {},
   "source": []
  },
  {
   "cell_type": "code",
   "execution_count": 19,
   "metadata": {},
   "outputs": [
    {
     "data": {
      "text/html": [
       "<div>\n",
       "<style scoped>\n",
       "    .dataframe tbody tr th:only-of-type {\n",
       "        vertical-align: middle;\n",
       "    }\n",
       "\n",
       "    .dataframe tbody tr th {\n",
       "        vertical-align: top;\n",
       "    }\n",
       "\n",
       "    .dataframe thead th {\n",
       "        text-align: right;\n",
       "    }\n",
       "</style>\n",
       "<table border=\"1\" class=\"dataframe\">\n",
       "  <thead>\n",
       "    <tr style=\"text-align: right;\">\n",
       "      <th></th>\n",
       "      <th>location</th>\n",
       "      <th>price</th>\n",
       "      <th>total_sqft</th>\n",
       "      <th>bhk</th>\n",
       "      <th>bathroom</th>\n",
       "      <th>price_per_sqft</th>\n",
       "    </tr>\n",
       "  </thead>\n",
       "  <tbody>\n",
       "    <tr>\n",
       "      <th>0</th>\n",
       "      <td>Kollur</td>\n",
       "      <td>2799000</td>\n",
       "      <td>1000</td>\n",
       "      <td>2</td>\n",
       "      <td>2</td>\n",
       "      <td>2799.000000</td>\n",
       "    </tr>\n",
       "    <tr>\n",
       "      <th>1</th>\n",
       "      <td>Gandimaisamma</td>\n",
       "      <td>2619000</td>\n",
       "      <td>970</td>\n",
       "      <td>2</td>\n",
       "      <td>2</td>\n",
       "      <td>2700.000000</td>\n",
       "    </tr>\n",
       "    <tr>\n",
       "      <th>2</th>\n",
       "      <td>Manikonda</td>\n",
       "      <td>6661000</td>\n",
       "      <td>1448</td>\n",
       "      <td>3</td>\n",
       "      <td>3</td>\n",
       "      <td>4600.138122</td>\n",
       "    </tr>\n",
       "    <tr>\n",
       "      <th>3</th>\n",
       "      <td>Krishna Reddy Pet</td>\n",
       "      <td>3483000</td>\n",
       "      <td>1161</td>\n",
       "      <td>2</td>\n",
       "      <td>2</td>\n",
       "      <td>3000.000000</td>\n",
       "    </tr>\n",
       "    <tr>\n",
       "      <th>4</th>\n",
       "      <td>Nizampet</td>\n",
       "      <td>7931000</td>\n",
       "      <td>1555</td>\n",
       "      <td>3</td>\n",
       "      <td>3</td>\n",
       "      <td>5100.321543</td>\n",
       "    </tr>\n",
       "    <tr>\n",
       "      <th>5</th>\n",
       "      <td>Nizampet</td>\n",
       "      <td>6120000</td>\n",
       "      <td>1200</td>\n",
       "      <td>2</td>\n",
       "      <td>2</td>\n",
       "      <td>5100.000000</td>\n",
       "    </tr>\n",
       "    <tr>\n",
       "      <th>6</th>\n",
       "      <td>Hi-Tech City</td>\n",
       "      <td>19200000</td>\n",
       "      <td>3000</td>\n",
       "      <td>4</td>\n",
       "      <td>4</td>\n",
       "      <td>6400.000000</td>\n",
       "    </tr>\n",
       "    <tr>\n",
       "      <th>7</th>\n",
       "      <td>Bachupally</td>\n",
       "      <td>14600000</td>\n",
       "      <td>1873</td>\n",
       "      <td>3</td>\n",
       "      <td>3</td>\n",
       "      <td>7794.981313</td>\n",
       "    </tr>\n",
       "    <tr>\n",
       "      <th>8</th>\n",
       "      <td>Mokila</td>\n",
       "      <td>8809000</td>\n",
       "      <td>1421</td>\n",
       "      <td>2</td>\n",
       "      <td>2</td>\n",
       "      <td>6199.155524</td>\n",
       "    </tr>\n",
       "    <tr>\n",
       "      <th>9</th>\n",
       "      <td>Mokila</td>\n",
       "      <td>8809000</td>\n",
       "      <td>1421</td>\n",
       "      <td>3</td>\n",
       "      <td>3</td>\n",
       "      <td>6199.155524</td>\n",
       "    </tr>\n",
       "    <tr>\n",
       "      <th>10</th>\n",
       "      <td>Gachibowli</td>\n",
       "      <td>9959000</td>\n",
       "      <td>1645</td>\n",
       "      <td>3</td>\n",
       "      <td>3</td>\n",
       "      <td>6054.103343</td>\n",
       "    </tr>\n",
       "    <tr>\n",
       "      <th>11</th>\n",
       "      <td>other</td>\n",
       "      <td>8500000</td>\n",
       "      <td>1620</td>\n",
       "      <td>3</td>\n",
       "      <td>3</td>\n",
       "      <td>5246.913580</td>\n",
       "    </tr>\n",
       "    <tr>\n",
       "      <th>12</th>\n",
       "      <td>Boduppal</td>\n",
       "      <td>5071000</td>\n",
       "      <td>1268</td>\n",
       "      <td>3</td>\n",
       "      <td>2</td>\n",
       "      <td>3999.211356</td>\n",
       "    </tr>\n",
       "    <tr>\n",
       "      <th>13</th>\n",
       "      <td>Miyapur</td>\n",
       "      <td>8045000</td>\n",
       "      <td>1676</td>\n",
       "      <td>3</td>\n",
       "      <td>3</td>\n",
       "      <td>4800.119332</td>\n",
       "    </tr>\n",
       "    <tr>\n",
       "      <th>14</th>\n",
       "      <td>Miyapur</td>\n",
       "      <td>8200000</td>\n",
       "      <td>1650</td>\n",
       "      <td>3</td>\n",
       "      <td>3</td>\n",
       "      <td>4969.696970</td>\n",
       "    </tr>\n",
       "    <tr>\n",
       "      <th>15</th>\n",
       "      <td>Hi-Tech City</td>\n",
       "      <td>12800000</td>\n",
       "      <td>2000</td>\n",
       "      <td>3</td>\n",
       "      <td>3</td>\n",
       "      <td>6400.000000</td>\n",
       "    </tr>\n",
       "    <tr>\n",
       "      <th>16</th>\n",
       "      <td>Kondapur</td>\n",
       "      <td>9779000</td>\n",
       "      <td>1686</td>\n",
       "      <td>3</td>\n",
       "      <td>3</td>\n",
       "      <td>5800.118624</td>\n",
       "    </tr>\n",
       "    <tr>\n",
       "      <th>17</th>\n",
       "      <td>Nanakramguda</td>\n",
       "      <td>9725000</td>\n",
       "      <td>1245</td>\n",
       "      <td>2</td>\n",
       "      <td>2</td>\n",
       "      <td>7811.244980</td>\n",
       "    </tr>\n",
       "    <tr>\n",
       "      <th>18</th>\n",
       "      <td>Manikonda</td>\n",
       "      <td>10300000</td>\n",
       "      <td>1805</td>\n",
       "      <td>3</td>\n",
       "      <td>3</td>\n",
       "      <td>5706.371191</td>\n",
       "    </tr>\n",
       "    <tr>\n",
       "      <th>19</th>\n",
       "      <td>Miyapur</td>\n",
       "      <td>6230000</td>\n",
       "      <td>1298</td>\n",
       "      <td>2</td>\n",
       "      <td>2</td>\n",
       "      <td>4799.691834</td>\n",
       "    </tr>\n",
       "  </tbody>\n",
       "</table>\n",
       "</div>"
      ],
      "text/plain": [
       "             location     price  total_sqft  bhk  bathroom  price_per_sqft\n",
       "0              Kollur   2799000        1000    2         2     2799.000000\n",
       "1       Gandimaisamma   2619000         970    2         2     2700.000000\n",
       "2           Manikonda   6661000        1448    3         3     4600.138122\n",
       "3   Krishna Reddy Pet   3483000        1161    2         2     3000.000000\n",
       "4            Nizampet   7931000        1555    3         3     5100.321543\n",
       "5            Nizampet   6120000        1200    2         2     5100.000000\n",
       "6        Hi-Tech City  19200000        3000    4         4     6400.000000\n",
       "7          Bachupally  14600000        1873    3         3     7794.981313\n",
       "8              Mokila   8809000        1421    2         2     6199.155524\n",
       "9              Mokila   8809000        1421    3         3     6199.155524\n",
       "10         Gachibowli   9959000        1645    3         3     6054.103343\n",
       "11              other   8500000        1620    3         3     5246.913580\n",
       "12           Boduppal   5071000        1268    3         2     3999.211356\n",
       "13            Miyapur   8045000        1676    3         3     4800.119332\n",
       "14            Miyapur   8200000        1650    3         3     4969.696970\n",
       "15       Hi-Tech City  12800000        2000    3         3     6400.000000\n",
       "16           Kondapur   9779000        1686    3         3     5800.118624\n",
       "17       Nanakramguda   9725000        1245    2         2     7811.244980\n",
       "18          Manikonda  10300000        1805    3         3     5706.371191\n",
       "19            Miyapur   6230000        1298    2         2     4799.691834"
      ]
     },
     "execution_count": 19,
     "metadata": {},
     "output_type": "execute_result"
    }
   ],
   "source": [
    "df3.head(20)"
   ]
  },
  {
   "cell_type": "markdown",
   "metadata": {},
   "source": [
    "# Outlier Removal Using Business Logic"
   ]
  },
  {
   "cell_type": "markdown",
   "metadata": {},
   "source": [
    "**normally square ft per bedroom is 300 i.e. 2 bhk apartment is minimum 600 sqft. If you have for example 400 sqft apartment with 2 bhk than that seems suspicious and can be removed as an outlier. We will remove such outliers by keeping our minimum thresold per bhk to be 300 sqft**"
   ]
  },
  {
   "cell_type": "code",
   "execution_count": 20,
   "metadata": {},
   "outputs": [
    {
     "data": {
      "text/html": [
       "<div>\n",
       "<style scoped>\n",
       "    .dataframe tbody tr th:only-of-type {\n",
       "        vertical-align: middle;\n",
       "    }\n",
       "\n",
       "    .dataframe tbody tr th {\n",
       "        vertical-align: top;\n",
       "    }\n",
       "\n",
       "    .dataframe thead th {\n",
       "        text-align: right;\n",
       "    }\n",
       "</style>\n",
       "<table border=\"1\" class=\"dataframe\">\n",
       "  <thead>\n",
       "    <tr style=\"text-align: right;\">\n",
       "      <th></th>\n",
       "      <th>location</th>\n",
       "      <th>price</th>\n",
       "      <th>total_sqft</th>\n",
       "      <th>bhk</th>\n",
       "      <th>bathroom</th>\n",
       "      <th>price_per_sqft</th>\n",
       "    </tr>\n",
       "  </thead>\n",
       "  <tbody>\n",
       "    <tr>\n",
       "      <th>154</th>\n",
       "      <td>Gajulramaram</td>\n",
       "      <td>12500000</td>\n",
       "      <td>110</td>\n",
       "      <td>6</td>\n",
       "      <td>6</td>\n",
       "      <td>113636.363636</td>\n",
       "    </tr>\n",
       "    <tr>\n",
       "      <th>390</th>\n",
       "      <td>Beeramguda</td>\n",
       "      <td>20000000</td>\n",
       "      <td>1539</td>\n",
       "      <td>8</td>\n",
       "      <td>8</td>\n",
       "      <td>12995.451592</td>\n",
       "    </tr>\n",
       "    <tr>\n",
       "      <th>968</th>\n",
       "      <td>Appa Junction</td>\n",
       "      <td>48000000</td>\n",
       "      <td>1800</td>\n",
       "      <td>15</td>\n",
       "      <td>15</td>\n",
       "      <td>26666.666667</td>\n",
       "    </tr>\n",
       "    <tr>\n",
       "      <th>988</th>\n",
       "      <td>New Nallakunta</td>\n",
       "      <td>13000000</td>\n",
       "      <td>990</td>\n",
       "      <td>5</td>\n",
       "      <td>4</td>\n",
       "      <td>13131.313131</td>\n",
       "    </tr>\n",
       "    <tr>\n",
       "      <th>990</th>\n",
       "      <td>Bagh Amberpet</td>\n",
       "      <td>13000000</td>\n",
       "      <td>900</td>\n",
       "      <td>5</td>\n",
       "      <td>5</td>\n",
       "      <td>14444.444444</td>\n",
       "    </tr>\n",
       "    <tr>\n",
       "      <th>...</th>\n",
       "      <td>...</td>\n",
       "      <td>...</td>\n",
       "      <td>...</td>\n",
       "      <td>...</td>\n",
       "      <td>...</td>\n",
       "      <td>...</td>\n",
       "    </tr>\n",
       "    <tr>\n",
       "      <th>7137</th>\n",
       "      <td>Santoshnagar</td>\n",
       "      <td>9900000</td>\n",
       "      <td>900</td>\n",
       "      <td>6</td>\n",
       "      <td>4</td>\n",
       "      <td>11000.000000</td>\n",
       "    </tr>\n",
       "    <tr>\n",
       "      <th>7144</th>\n",
       "      <td>Tilak Nagar</td>\n",
       "      <td>17000000</td>\n",
       "      <td>945</td>\n",
       "      <td>10</td>\n",
       "      <td>8</td>\n",
       "      <td>17989.417989</td>\n",
       "    </tr>\n",
       "    <tr>\n",
       "      <th>7156</th>\n",
       "      <td>Tolichowki</td>\n",
       "      <td>19500000</td>\n",
       "      <td>1440</td>\n",
       "      <td>13</td>\n",
       "      <td>11</td>\n",
       "      <td>13541.666667</td>\n",
       "    </tr>\n",
       "    <tr>\n",
       "      <th>7157</th>\n",
       "      <td>Tolichowki</td>\n",
       "      <td>9000000</td>\n",
       "      <td>558</td>\n",
       "      <td>4</td>\n",
       "      <td>3</td>\n",
       "      <td>16129.032258</td>\n",
       "    </tr>\n",
       "    <tr>\n",
       "      <th>7189</th>\n",
       "      <td>Tolichowki</td>\n",
       "      <td>13000000</td>\n",
       "      <td>900</td>\n",
       "      <td>10</td>\n",
       "      <td>8</td>\n",
       "      <td>14444.444444</td>\n",
       "    </tr>\n",
       "  </tbody>\n",
       "</table>\n",
       "<p>210 rows × 6 columns</p>\n",
       "</div>"
      ],
      "text/plain": [
       "            location     price  total_sqft  bhk  bathroom  price_per_sqft\n",
       "154     Gajulramaram  12500000         110    6         6   113636.363636\n",
       "390       Beeramguda  20000000        1539    8         8    12995.451592\n",
       "968    Appa Junction  48000000        1800   15        15    26666.666667\n",
       "988   New Nallakunta  13000000         990    5         4    13131.313131\n",
       "990    Bagh Amberpet  13000000         900    5         5    14444.444444\n",
       "...              ...       ...         ...  ...       ...             ...\n",
       "7137    Santoshnagar   9900000         900    6         4    11000.000000\n",
       "7144     Tilak Nagar  17000000         945   10         8    17989.417989\n",
       "7156      Tolichowki  19500000        1440   13        11    13541.666667\n",
       "7157      Tolichowki   9000000         558    4         3    16129.032258\n",
       "7189      Tolichowki  13000000         900   10         8    14444.444444\n",
       "\n",
       "[210 rows x 6 columns]"
      ]
     },
     "execution_count": 20,
     "metadata": {},
     "output_type": "execute_result"
    }
   ],
   "source": [
    "df3[df3.total_sqft/df3.bhk<200] "
   ]
  },
  {
   "cell_type": "code",
   "execution_count": 21,
   "metadata": {},
   "outputs": [
    {
     "data": {
      "text/plain": [
       "(6983, 6)"
      ]
     },
     "execution_count": 21,
     "metadata": {},
     "output_type": "execute_result"
    }
   ],
   "source": [
    "df4 = df3[~(df3.total_sqft/df3.bhk<200)]\n",
    "df4.shape"
   ]
  },
  {
   "cell_type": "code",
   "execution_count": 22,
   "metadata": {},
   "outputs": [
    {
     "data": {
      "text/plain": [
       "(7193, 6)"
      ]
     },
     "execution_count": 22,
     "metadata": {},
     "output_type": "execute_result"
    }
   ],
   "source": [
    "df3.shape"
   ]
  },
  {
   "cell_type": "markdown",
   "metadata": {},
   "source": [
    "# Outlier Removal Using Standard Deviation and Mean\n"
   ]
  },
  {
   "cell_type": "code",
   "execution_count": 23,
   "metadata": {},
   "outputs": [
    {
     "data": {
      "text/plain": [
       "(5586, 6)"
      ]
     },
     "execution_count": 23,
     "metadata": {},
     "output_type": "execute_result"
    }
   ],
   "source": [
    "def remove_pps_outliers(df):\n",
    "    df_out = pd.DataFrame()\n",
    "    for key, subdf in df.groupby('location'):\n",
    "        m = np.mean(subdf.price_per_sqft)\n",
    "        st = np.std(subdf.price_per_sqft)\n",
    "        reduced_df = subdf[(subdf.price_per_sqft>(m-st)) & (subdf.price_per_sqft<=(m+st))]\n",
    "        df_out = pd.concat([df_out,reduced_df],ignore_index=True)\n",
    "    return df_out\n",
    "df5 = remove_pps_outliers(df4)\n",
    "df5.shape"
   ]
  },
  {
   "cell_type": "markdown",
   "metadata": {},
   "source": [
    "**Let's check if for a given location how does the 2 BHK and 3 BHK property prices look like**"
   ]
  },
  {
   "cell_type": "code",
   "execution_count": 26,
   "metadata": {
    "scrolled": true
   },
   "outputs": [
    {
     "data": {
      "image/png": "[encoded data removed]",
      "text/plain": [
       "<Figure size 1080x720 with 1 Axes>"
      ]
     },
     "metadata": {
      "needs_background": "light"
     },
     "output_type": "display_data"
    }
   ],
   "source": [
    "def plot_scatter_chart(df,location):\n",
    "    bhk2 = df[(df.location==location) & (df.bhk==2)]\n",
    "    bhk3 = df[(df.location==location) & (df.bhk==3)]\n",
    "    matplotlib.rcParams['figure.figsize'] = (15,10)\n",
    "    plt.scatter(bhk2.total_sqft,bhk2.price,color='blue',label='2 BHK', s=50)\n",
    "    plt.scatter(bhk3.total_sqft,bhk3.price,marker='+', color='green',label='3 BHK', s=50)\n",
    "    plt.xlabel(\"Total Square Feet Area\")\n",
    "    plt.ylabel(\"Price (Lakh Indian Rupees)\")\n",
    "    plt.title(location)\n",
    "    plt.legend()\n",
    "    \n",
    "plot_scatter_chart(df5,\"Gachibowli\")"
   ]
  },
  {
   "cell_type": "code",
   "execution_count": 27,
   "metadata": {},
   "outputs": [
    {
     "data": {
      "image/png": "[encoded data removed]",
      "text/plain": [
       "<Figure size 1080x720 with 1 Axes>"
      ]
     },
     "metadata": {
      "needs_background": "light"
     },
     "output_type": "display_data"
    }
   ],
   "source": [
    "plot_scatter_chart(df5,\"Kondapur\")"
   ]
  },
  {
   "cell_type": "code",
   "execution_count": 28,
   "metadata": {},
   "outputs": [
    {
     "data": {
      "text/plain": [
       "Text(0, 0.5, 'Count')"
      ]
     },
     "execution_count": 28,
     "metadata": {},
     "output_type": "execute_result"
    },
    {
     "data": {
      "image/png": "[encoded data removed]",
      "text/plain": [
       "<Figure size 1440x720 with 1 Axes>"
      ]
     },
     "metadata": {
      "needs_background": "light"
     },
     "output_type": "display_data"
    }
   ],
   "source": [
    "import matplotlib\n",
    "matplotlib.rcParams[\"figure.figsize\"] = (20,10)\n",
    "plt.hist(df5.price_per_sqft,rwidth=0.8)\n",
    "plt.xlabel(\"Price Per Square Feet\")\n",
    "plt.ylabel(\"Count\")"
   ]
  },
  {
   "cell_type": "code",
   "execution_count": 29,
   "metadata": {},
   "outputs": [
    {
     "data": {
      "text/plain": [
       "array([ 2,  3,  4,  1,  7,  6,  5, 10, 15,  8, 14,  9, 21, 18, 12, 11],\n",
       "      dtype=int64)"
      ]
     },
     "execution_count": 29,
     "metadata": {},
     "output_type": "execute_result"
    }
   ],
   "source": [
    "df5.bathroom.unique()"
   ]
  },
  {
   "cell_type": "code",
   "execution_count": 30,
   "metadata": {},
   "outputs": [
    {
     "data": {
      "text/html": [
       "<div>\n",
       "<style scoped>\n",
       "    .dataframe tbody tr th:only-of-type {\n",
       "        vertical-align: middle;\n",
       "    }\n",
       "\n",
       "    .dataframe tbody tr th {\n",
       "        vertical-align: top;\n",
       "    }\n",
       "\n",
       "    .dataframe thead th {\n",
       "        text-align: right;\n",
       "    }\n",
       "</style>\n",
       "<table border=\"1\" class=\"dataframe\">\n",
       "  <thead>\n",
       "    <tr style=\"text-align: right;\">\n",
       "      <th></th>\n",
       "      <th>location</th>\n",
       "      <th>price</th>\n",
       "      <th>total_sqft</th>\n",
       "      <th>bhk</th>\n",
       "      <th>bathroom</th>\n",
       "      <th>price_per_sqft</th>\n",
       "    </tr>\n",
       "  </thead>\n",
       "  <tbody>\n",
       "    <tr>\n",
       "      <th>331</th>\n",
       "      <td>Bachupally</td>\n",
       "      <td>40000000</td>\n",
       "      <td>10500</td>\n",
       "      <td>14</td>\n",
       "      <td>15</td>\n",
       "      <td>3809.523810</td>\n",
       "    </tr>\n",
       "    <tr>\n",
       "      <th>630</th>\n",
       "      <td>Bandlaguda</td>\n",
       "      <td>24000000</td>\n",
       "      <td>8200</td>\n",
       "      <td>14</td>\n",
       "      <td>14</td>\n",
       "      <td>2926.829268</td>\n",
       "    </tr>\n",
       "    <tr>\n",
       "      <th>1080</th>\n",
       "      <td>Chandanagar</td>\n",
       "      <td>32500000</td>\n",
       "      <td>9300</td>\n",
       "      <td>20</td>\n",
       "      <td>21</td>\n",
       "      <td>3494.623656</td>\n",
       "    </tr>\n",
       "    <tr>\n",
       "      <th>1985</th>\n",
       "      <td>Hyder Nagar</td>\n",
       "      <td>37000000</td>\n",
       "      <td>9000</td>\n",
       "      <td>16</td>\n",
       "      <td>18</td>\n",
       "      <td>4111.111111</td>\n",
       "    </tr>\n",
       "    <tr>\n",
       "      <th>2739</th>\n",
       "      <td>LB Nagar</td>\n",
       "      <td>35000000</td>\n",
       "      <td>3195</td>\n",
       "      <td>11</td>\n",
       "      <td>12</td>\n",
       "      <td>10954.616588</td>\n",
       "    </tr>\n",
       "    <tr>\n",
       "      <th>2763</th>\n",
       "      <td>LB Nagar</td>\n",
       "      <td>20000000</td>\n",
       "      <td>5500</td>\n",
       "      <td>12</td>\n",
       "      <td>12</td>\n",
       "      <td>3636.363636</td>\n",
       "    </tr>\n",
       "    <tr>\n",
       "      <th>4982</th>\n",
       "      <td>YousufGuda</td>\n",
       "      <td>52000000</td>\n",
       "      <td>11000</td>\n",
       "      <td>20</td>\n",
       "      <td>18</td>\n",
       "      <td>4727.272727</td>\n",
       "    </tr>\n",
       "    <tr>\n",
       "      <th>5392</th>\n",
       "      <td>other</td>\n",
       "      <td>40000000</td>\n",
       "      <td>8000</td>\n",
       "      <td>20</td>\n",
       "      <td>15</td>\n",
       "      <td>5000.000000</td>\n",
       "    </tr>\n",
       "    <tr>\n",
       "      <th>5510</th>\n",
       "      <td>other</td>\n",
       "      <td>23500000</td>\n",
       "      <td>2547</td>\n",
       "      <td>11</td>\n",
       "      <td>11</td>\n",
       "      <td>9226.541029</td>\n",
       "    </tr>\n",
       "  </tbody>\n",
       "</table>\n",
       "</div>"
      ],
      "text/plain": [
       "         location     price  total_sqft  bhk  bathroom  price_per_sqft\n",
       "331    Bachupally  40000000       10500   14        15     3809.523810\n",
       "630    Bandlaguda  24000000        8200   14        14     2926.829268\n",
       "1080  Chandanagar  32500000        9300   20        21     3494.623656\n",
       "1985  Hyder Nagar  37000000        9000   16        18     4111.111111\n",
       "2739     LB Nagar  35000000        3195   11        12    10954.616588\n",
       "2763     LB Nagar  20000000        5500   12        12     3636.363636\n",
       "4982   YousufGuda  52000000       11000   20        18     4727.272727\n",
       "5392        other  40000000        8000   20        15     5000.000000\n",
       "5510        other  23500000        2547   11        11     9226.541029"
      ]
     },
     "execution_count": 30,
     "metadata": {},
     "output_type": "execute_result"
    }
   ],
   "source": [
    "df5[df5.bathroom>10]"
   ]
  },
  {
   "cell_type": "code",
   "execution_count": 31,
   "metadata": {},
   "outputs": [
    {
     "data": {
      "text/html": [
       "<div>\n",
       "<style scoped>\n",
       "    .dataframe tbody tr th:only-of-type {\n",
       "        vertical-align: middle;\n",
       "    }\n",
       "\n",
       "    .dataframe tbody tr th {\n",
       "        vertical-align: top;\n",
       "    }\n",
       "\n",
       "    .dataframe thead th {\n",
       "        text-align: right;\n",
       "    }\n",
       "</style>\n",
       "<table border=\"1\" class=\"dataframe\">\n",
       "  <thead>\n",
       "    <tr style=\"text-align: right;\">\n",
       "      <th></th>\n",
       "      <th>location</th>\n",
       "      <th>price</th>\n",
       "      <th>total_sqft</th>\n",
       "      <th>bhk</th>\n",
       "      <th>bathroom</th>\n",
       "    </tr>\n",
       "  </thead>\n",
       "  <tbody>\n",
       "    <tr>\n",
       "      <th>0</th>\n",
       "      <td>Abids</td>\n",
       "      <td>11000000</td>\n",
       "      <td>1600</td>\n",
       "      <td>3</td>\n",
       "      <td>2</td>\n",
       "    </tr>\n",
       "    <tr>\n",
       "      <th>1</th>\n",
       "      <td>Abids</td>\n",
       "      <td>9750000</td>\n",
       "      <td>1500</td>\n",
       "      <td>3</td>\n",
       "      <td>2</td>\n",
       "    </tr>\n",
       "    <tr>\n",
       "      <th>2</th>\n",
       "      <td>Abids</td>\n",
       "      <td>7800000</td>\n",
       "      <td>1200</td>\n",
       "      <td>2</td>\n",
       "      <td>2</td>\n",
       "    </tr>\n",
       "  </tbody>\n",
       "</table>\n",
       "</div>"
      ],
      "text/plain": [
       "  location     price  total_sqft  bhk  bathroom\n",
       "0    Abids  11000000        1600    3         2\n",
       "1    Abids   9750000        1500    3         2\n",
       "2    Abids   7800000        1200    2         2"
      ]
     },
     "execution_count": 31,
     "metadata": {},
     "output_type": "execute_result"
    }
   ],
   "source": [
    "df6 = df5.drop(['price_per_sqft'],axis='columns')\n",
    "df6.head(3)"
   ]
  },
  {
   "cell_type": "markdown",
   "metadata": {},
   "source": [
    "# Use One Hot Encoding For Location"
   ]
  },
  {
   "cell_type": "code",
   "execution_count": 32,
   "metadata": {},
   "outputs": [
    {
     "data": {
      "text/html": [
       "<div>\n",
       "<style scoped>\n",
       "    .dataframe tbody tr th:only-of-type {\n",
       "        vertical-align: middle;\n",
       "    }\n",
       "\n",
       "    .dataframe tbody tr th {\n",
       "        vertical-align: top;\n",
       "    }\n",
       "\n",
       "    .dataframe thead th {\n",
       "        text-align: right;\n",
       "    }\n",
       "</style>\n",
       "<table border=\"1\" class=\"dataframe\">\n",
       "  <thead>\n",
       "    <tr style=\"text-align: right;\">\n",
       "      <th></th>\n",
       "      <th>Abids</th>\n",
       "      <th>Adibatla</th>\n",
       "      <th>Alkapuri</th>\n",
       "      <th>Allwyn Colony</th>\n",
       "      <th>Almas guda</th>\n",
       "      <th>Ambedkar Nagar</th>\n",
       "      <th>Amberpet</th>\n",
       "      <th>Ameerpet</th>\n",
       "      <th>Aminpur</th>\n",
       "      <th>Anand Bagh</th>\n",
       "      <th>...</th>\n",
       "      <th>Vittal Rao Nagar</th>\n",
       "      <th>Whitefield</th>\n",
       "      <th>Yellareddyguda</th>\n",
       "      <th>YousufGuda</th>\n",
       "      <th>barkatpura</th>\n",
       "      <th>chandrayangutta</th>\n",
       "      <th>kompalli</th>\n",
       "      <th>kompally near by dulapalli</th>\n",
       "      <th>kuntloor</th>\n",
       "      <th>other</th>\n",
       "    </tr>\n",
       "  </thead>\n",
       "  <tbody>\n",
       "    <tr>\n",
       "      <th>0</th>\n",
       "      <td>1</td>\n",
       "      <td>0</td>\n",
       "      <td>0</td>\n",
       "      <td>0</td>\n",
       "      <td>0</td>\n",
       "      <td>0</td>\n",
       "      <td>0</td>\n",
       "      <td>0</td>\n",
       "      <td>0</td>\n",
       "      <td>0</td>\n",
       "      <td>...</td>\n",
       "      <td>0</td>\n",
       "      <td>0</td>\n",
       "      <td>0</td>\n",
       "      <td>0</td>\n",
       "      <td>0</td>\n",
       "      <td>0</td>\n",
       "      <td>0</td>\n",
       "      <td>0</td>\n",
       "      <td>0</td>\n",
       "      <td>0</td>\n",
       "    </tr>\n",
       "    <tr>\n",
       "      <th>1</th>\n",
       "      <td>1</td>\n",
       "      <td>0</td>\n",
       "      <td>0</td>\n",
       "      <td>0</td>\n",
       "      <td>0</td>\n",
       "      <td>0</td>\n",
       "      <td>0</td>\n",
       "      <td>0</td>\n",
       "      <td>0</td>\n",
       "      <td>0</td>\n",
       "      <td>...</td>\n",
       "      <td>0</td>\n",
       "      <td>0</td>\n",
       "      <td>0</td>\n",
       "      <td>0</td>\n",
       "      <td>0</td>\n",
       "      <td>0</td>\n",
       "      <td>0</td>\n",
       "      <td>0</td>\n",
       "      <td>0</td>\n",
       "      <td>0</td>\n",
       "    </tr>\n",
       "    <tr>\n",
       "      <th>2</th>\n",
       "      <td>1</td>\n",
       "      <td>0</td>\n",
       "      <td>0</td>\n",
       "      <td>0</td>\n",
       "      <td>0</td>\n",
       "      <td>0</td>\n",
       "      <td>0</td>\n",
       "      <td>0</td>\n",
       "      <td>0</td>\n",
       "      <td>0</td>\n",
       "      <td>...</td>\n",
       "      <td>0</td>\n",
       "      <td>0</td>\n",
       "      <td>0</td>\n",
       "      <td>0</td>\n",
       "      <td>0</td>\n",
       "      <td>0</td>\n",
       "      <td>0</td>\n",
       "      <td>0</td>\n",
       "      <td>0</td>\n",
       "      <td>0</td>\n",
       "    </tr>\n",
       "  </tbody>\n",
       "</table>\n",
       "<p>3 rows × 266 columns</p>\n",
       "</div>"
      ],
      "text/plain": [
       "   Abids  Adibatla  Alkapuri  Allwyn Colony  Almas guda  Ambedkar Nagar  \\\n",
       "0      1         0         0              0           0               0   \n",
       "1      1         0         0              0           0               0   \n",
       "2      1         0         0              0           0               0   \n",
       "\n",
       "   Amberpet  Ameerpet  Aminpur  Anand Bagh  ...  Vittal Rao Nagar  Whitefield  \\\n",
       "0         0         0        0           0  ...                 0           0   \n",
       "1         0         0        0           0  ...                 0           0   \n",
       "2         0         0        0           0  ...                 0           0   \n",
       "\n",
       "   Yellareddyguda  YousufGuda  barkatpura  chandrayangutta  kompalli  \\\n",
       "0               0           0           0                0         0   \n",
       "1               0           0           0                0         0   \n",
       "2               0           0           0                0         0   \n",
       "\n",
       "   kompally near by dulapalli  kuntloor  other  \n",
       "0                           0         0      0  \n",
       "1                           0         0      0  \n",
       "2                           0         0      0  \n",
       "\n",
       "[3 rows x 266 columns]"
      ]
     },
     "execution_count": 32,
     "metadata": {},
     "output_type": "execute_result"
    }
   ],
   "source": [
    "dummies = pd.get_dummies(df6.location)\n",
    "dummies.head(3)"
   ]
  },
  {
   "cell_type": "code",
   "execution_count": 33,
   "metadata": {},
   "outputs": [
    {
     "data": {
      "text/html": [
       "<div>\n",
       "<style scoped>\n",
       "    .dataframe tbody tr th:only-of-type {\n",
       "        vertical-align: middle;\n",
       "    }\n",
       "\n",
       "    .dataframe tbody tr th {\n",
       "        vertical-align: top;\n",
       "    }\n",
       "\n",
       "    .dataframe thead th {\n",
       "        text-align: right;\n",
       "    }\n",
       "</style>\n",
       "<table border=\"1\" class=\"dataframe\">\n",
       "  <thead>\n",
       "    <tr style=\"text-align: right;\">\n",
       "      <th></th>\n",
       "      <th>location</th>\n",
       "      <th>price</th>\n",
       "      <th>total_sqft</th>\n",
       "      <th>bhk</th>\n",
       "      <th>bathroom</th>\n",
       "      <th>Abids</th>\n",
       "      <th>Adibatla</th>\n",
       "      <th>Alkapuri</th>\n",
       "      <th>Allwyn Colony</th>\n",
       "      <th>Almas guda</th>\n",
       "      <th>...</th>\n",
       "      <th>Vijaya Nagar Colony</th>\n",
       "      <th>Vittal Rao Nagar</th>\n",
       "      <th>Whitefield</th>\n",
       "      <th>Yellareddyguda</th>\n",
       "      <th>YousufGuda</th>\n",
       "      <th>barkatpura</th>\n",
       "      <th>chandrayangutta</th>\n",
       "      <th>kompalli</th>\n",
       "      <th>kompally near by dulapalli</th>\n",
       "      <th>kuntloor</th>\n",
       "    </tr>\n",
       "  </thead>\n",
       "  <tbody>\n",
       "    <tr>\n",
       "      <th>0</th>\n",
       "      <td>Abids</td>\n",
       "      <td>11000000</td>\n",
       "      <td>1600</td>\n",
       "      <td>3</td>\n",
       "      <td>2</td>\n",
       "      <td>1</td>\n",
       "      <td>0</td>\n",
       "      <td>0</td>\n",
       "      <td>0</td>\n",
       "      <td>0</td>\n",
       "      <td>...</td>\n",
       "      <td>0</td>\n",
       "      <td>0</td>\n",
       "      <td>0</td>\n",
       "      <td>0</td>\n",
       "      <td>0</td>\n",
       "      <td>0</td>\n",
       "      <td>0</td>\n",
       "      <td>0</td>\n",
       "      <td>0</td>\n",
       "      <td>0</td>\n",
       "    </tr>\n",
       "    <tr>\n",
       "      <th>1</th>\n",
       "      <td>Abids</td>\n",
       "      <td>9750000</td>\n",
       "      <td>1500</td>\n",
       "      <td>3</td>\n",
       "      <td>2</td>\n",
       "      <td>1</td>\n",
       "      <td>0</td>\n",
       "      <td>0</td>\n",
       "      <td>0</td>\n",
       "      <td>0</td>\n",
       "      <td>...</td>\n",
       "      <td>0</td>\n",
       "      <td>0</td>\n",
       "      <td>0</td>\n",
       "      <td>0</td>\n",
       "      <td>0</td>\n",
       "      <td>0</td>\n",
       "      <td>0</td>\n",
       "      <td>0</td>\n",
       "      <td>0</td>\n",
       "      <td>0</td>\n",
       "    </tr>\n",
       "    <tr>\n",
       "      <th>2</th>\n",
       "      <td>Abids</td>\n",
       "      <td>7800000</td>\n",
       "      <td>1200</td>\n",
       "      <td>2</td>\n",
       "      <td>2</td>\n",
       "      <td>1</td>\n",
       "      <td>0</td>\n",
       "      <td>0</td>\n",
       "      <td>0</td>\n",
       "      <td>0</td>\n",
       "      <td>...</td>\n",
       "      <td>0</td>\n",
       "      <td>0</td>\n",
       "      <td>0</td>\n",
       "      <td>0</td>\n",
       "      <td>0</td>\n",
       "      <td>0</td>\n",
       "      <td>0</td>\n",
       "      <td>0</td>\n",
       "      <td>0</td>\n",
       "      <td>0</td>\n",
       "    </tr>\n",
       "    <tr>\n",
       "      <th>3</th>\n",
       "      <td>Abids</td>\n",
       "      <td>7000000</td>\n",
       "      <td>1100</td>\n",
       "      <td>2</td>\n",
       "      <td>2</td>\n",
       "      <td>1</td>\n",
       "      <td>0</td>\n",
       "      <td>0</td>\n",
       "      <td>0</td>\n",
       "      <td>0</td>\n",
       "      <td>...</td>\n",
       "      <td>0</td>\n",
       "      <td>0</td>\n",
       "      <td>0</td>\n",
       "      <td>0</td>\n",
       "      <td>0</td>\n",
       "      <td>0</td>\n",
       "      <td>0</td>\n",
       "      <td>0</td>\n",
       "      <td>0</td>\n",
       "      <td>0</td>\n",
       "    </tr>\n",
       "    <tr>\n",
       "      <th>4</th>\n",
       "      <td>Adibatla</td>\n",
       "      <td>5356000</td>\n",
       "      <td>1338</td>\n",
       "      <td>3</td>\n",
       "      <td>3</td>\n",
       "      <td>0</td>\n",
       "      <td>1</td>\n",
       "      <td>0</td>\n",
       "      <td>0</td>\n",
       "      <td>0</td>\n",
       "      <td>...</td>\n",
       "      <td>0</td>\n",
       "      <td>0</td>\n",
       "      <td>0</td>\n",
       "      <td>0</td>\n",
       "      <td>0</td>\n",
       "      <td>0</td>\n",
       "      <td>0</td>\n",
       "      <td>0</td>\n",
       "      <td>0</td>\n",
       "      <td>0</td>\n",
       "    </tr>\n",
       "  </tbody>\n",
       "</table>\n",
       "<p>5 rows × 270 columns</p>\n",
       "</div>"
      ],
      "text/plain": [
       "   location     price  total_sqft  bhk  bathroom  Abids  Adibatla  Alkapuri  \\\n",
       "0     Abids  11000000        1600    3         2      1         0         0   \n",
       "1     Abids   9750000        1500    3         2      1         0         0   \n",
       "2     Abids   7800000        1200    2         2      1         0         0   \n",
       "3     Abids   7000000        1100    2         2      1         0         0   \n",
       "4  Adibatla   5356000        1338    3         3      0         1         0   \n",
       "\n",
       "   Allwyn Colony  Almas guda  ...  Vijaya Nagar Colony  Vittal Rao Nagar  \\\n",
       "0              0           0  ...                    0                 0   \n",
       "1              0           0  ...                    0                 0   \n",
       "2              0           0  ...                    0                 0   \n",
       "3              0           0  ...                    0                 0   \n",
       "4              0           0  ...                    0                 0   \n",
       "\n",
       "   Whitefield  Yellareddyguda  YousufGuda  barkatpura  chandrayangutta  \\\n",
       "0           0               0           0           0                0   \n",
       "1           0               0           0           0                0   \n",
       "2           0               0           0           0                0   \n",
       "3           0               0           0           0                0   \n",
       "4           0               0           0           0                0   \n",
       "\n",
       "   kompalli  kompally near by dulapalli  kuntloor  \n",
       "0         0                           0         0  \n",
       "1         0                           0         0  \n",
       "2         0                           0         0  \n",
       "3         0                           0         0  \n",
       "4         0                           0         0  \n",
       "\n",
       "[5 rows x 270 columns]"
      ]
     },
     "execution_count": 33,
     "metadata": {},
     "output_type": "execute_result"
    }
   ],
   "source": [
    "df7 = pd.concat([df6,dummies.drop('other',axis='columns')],axis='columns')\n",
    "df7.head()"
   ]
  },
  {
   "cell_type": "code",
   "execution_count": 35,
   "metadata": {},
   "outputs": [
    {
     "data": {
      "text/html": [
       "<div>\n",
       "<style scoped>\n",
       "    .dataframe tbody tr th:only-of-type {\n",
       "        vertical-align: middle;\n",
       "    }\n",
       "\n",
       "    .dataframe tbody tr th {\n",
       "        vertical-align: top;\n",
       "    }\n",
       "\n",
       "    .dataframe thead th {\n",
       "        text-align: right;\n",
       "    }\n",
       "</style>\n",
       "<table border=\"1\" class=\"dataframe\">\n",
       "  <thead>\n",
       "    <tr style=\"text-align: right;\">\n",
       "      <th></th>\n",
       "      <th>price</th>\n",
       "      <th>total_sqft</th>\n",
       "      <th>bhk</th>\n",
       "      <th>bathroom</th>\n",
       "      <th>Abids</th>\n",
       "      <th>Adibatla</th>\n",
       "      <th>Alkapuri</th>\n",
       "      <th>Allwyn Colony</th>\n",
       "      <th>Almas guda</th>\n",
       "      <th>Ambedkar Nagar</th>\n",
       "      <th>...</th>\n",
       "      <th>Vijaya Nagar Colony</th>\n",
       "      <th>Vittal Rao Nagar</th>\n",
       "      <th>Whitefield</th>\n",
       "      <th>Yellareddyguda</th>\n",
       "      <th>YousufGuda</th>\n",
       "      <th>barkatpura</th>\n",
       "      <th>chandrayangutta</th>\n",
       "      <th>kompalli</th>\n",
       "      <th>kompally near by dulapalli</th>\n",
       "      <th>kuntloor</th>\n",
       "    </tr>\n",
       "  </thead>\n",
       "  <tbody>\n",
       "    <tr>\n",
       "      <th>0</th>\n",
       "      <td>11000000</td>\n",
       "      <td>1600</td>\n",
       "      <td>3</td>\n",
       "      <td>2</td>\n",
       "      <td>1</td>\n",
       "      <td>0</td>\n",
       "      <td>0</td>\n",
       "      <td>0</td>\n",
       "      <td>0</td>\n",
       "      <td>0</td>\n",
       "      <td>...</td>\n",
       "      <td>0</td>\n",
       "      <td>0</td>\n",
       "      <td>0</td>\n",
       "      <td>0</td>\n",
       "      <td>0</td>\n",
       "      <td>0</td>\n",
       "      <td>0</td>\n",
       "      <td>0</td>\n",
       "      <td>0</td>\n",
       "      <td>0</td>\n",
       "    </tr>\n",
       "    <tr>\n",
       "      <th>1</th>\n",
       "      <td>9750000</td>\n",
       "      <td>1500</td>\n",
       "      <td>3</td>\n",
       "      <td>2</td>\n",
       "      <td>1</td>\n",
       "      <td>0</td>\n",
       "      <td>0</td>\n",
       "      <td>0</td>\n",
       "      <td>0</td>\n",
       "      <td>0</td>\n",
       "      <td>...</td>\n",
       "      <td>0</td>\n",
       "      <td>0</td>\n",
       "      <td>0</td>\n",
       "      <td>0</td>\n",
       "      <td>0</td>\n",
       "      <td>0</td>\n",
       "      <td>0</td>\n",
       "      <td>0</td>\n",
       "      <td>0</td>\n",
       "      <td>0</td>\n",
       "    </tr>\n",
       "  </tbody>\n",
       "</table>\n",
       "<p>2 rows × 269 columns</p>\n",
       "</div>"
      ],
      "text/plain": [
       "      price  total_sqft  bhk  bathroom  Abids  Adibatla  Alkapuri  \\\n",
       "0  11000000        1600    3         2      1         0         0   \n",
       "1   9750000        1500    3         2      1         0         0   \n",
       "\n",
       "   Allwyn Colony  Almas guda  Ambedkar Nagar  ...  Vijaya Nagar Colony  \\\n",
       "0              0           0               0  ...                    0   \n",
       "1              0           0               0  ...                    0   \n",
       "\n",
       "   Vittal Rao Nagar  Whitefield  Yellareddyguda  YousufGuda  barkatpura  \\\n",
       "0                 0           0               0           0           0   \n",
       "1                 0           0               0           0           0   \n",
       "\n",
       "   chandrayangutta  kompalli  kompally near by dulapalli  kuntloor  \n",
       "0                0         0                           0         0  \n",
       "1                0         0                           0         0  \n",
       "\n",
       "[2 rows x 269 columns]"
      ]
     },
     "execution_count": 35,
     "metadata": {},
     "output_type": "execute_result"
    }
   ],
   "source": [
    "df8 = df7.drop('location',axis='columns')\n",
    "df8.head(2)"
   ]
  },
  {
   "cell_type": "code",
   "execution_count": 36,
   "metadata": {},
   "outputs": [
    {
     "data": {
      "text/plain": [
       "(5586, 269)"
      ]
     },
     "execution_count": 36,
     "metadata": {},
     "output_type": "execute_result"
    }
   ],
   "source": [
    "df8.shape\n"
   ]
  },
  {
   "cell_type": "code",
   "execution_count": 37,
   "metadata": {},
   "outputs": [
    {
     "data": {
      "text/html": [
       "<div>\n",
       "<style scoped>\n",
       "    .dataframe tbody tr th:only-of-type {\n",
       "        vertical-align: middle;\n",
       "    }\n",
       "\n",
       "    .dataframe tbody tr th {\n",
       "        vertical-align: top;\n",
       "    }\n",
       "\n",
       "    .dataframe thead th {\n",
       "        text-align: right;\n",
       "    }\n",
       "</style>\n",
       "<table border=\"1\" class=\"dataframe\">\n",
       "  <thead>\n",
       "    <tr style=\"text-align: right;\">\n",
       "      <th></th>\n",
       "      <th>total_sqft</th>\n",
       "      <th>bhk</th>\n",
       "      <th>bathroom</th>\n",
       "      <th>Abids</th>\n",
       "      <th>Adibatla</th>\n",
       "      <th>Alkapuri</th>\n",
       "      <th>Allwyn Colony</th>\n",
       "      <th>Almas guda</th>\n",
       "      <th>Ambedkar Nagar</th>\n",
       "      <th>Amberpet</th>\n",
       "      <th>...</th>\n",
       "      <th>Vijaya Nagar Colony</th>\n",
       "      <th>Vittal Rao Nagar</th>\n",
       "      <th>Whitefield</th>\n",
       "      <th>Yellareddyguda</th>\n",
       "      <th>YousufGuda</th>\n",
       "      <th>barkatpura</th>\n",
       "      <th>chandrayangutta</th>\n",
       "      <th>kompalli</th>\n",
       "      <th>kompally near by dulapalli</th>\n",
       "      <th>kuntloor</th>\n",
       "    </tr>\n",
       "  </thead>\n",
       "  <tbody>\n",
       "    <tr>\n",
       "      <th>0</th>\n",
       "      <td>1600</td>\n",
       "      <td>3</td>\n",
       "      <td>2</td>\n",
       "      <td>1</td>\n",
       "      <td>0</td>\n",
       "      <td>0</td>\n",
       "      <td>0</td>\n",
       "      <td>0</td>\n",
       "      <td>0</td>\n",
       "      <td>0</td>\n",
       "      <td>...</td>\n",
       "      <td>0</td>\n",
       "      <td>0</td>\n",
       "      <td>0</td>\n",
       "      <td>0</td>\n",
       "      <td>0</td>\n",
       "      <td>0</td>\n",
       "      <td>0</td>\n",
       "      <td>0</td>\n",
       "      <td>0</td>\n",
       "      <td>0</td>\n",
       "    </tr>\n",
       "    <tr>\n",
       "      <th>1</th>\n",
       "      <td>1500</td>\n",
       "      <td>3</td>\n",
       "      <td>2</td>\n",
       "      <td>1</td>\n",
       "      <td>0</td>\n",
       "      <td>0</td>\n",
       "      <td>0</td>\n",
       "      <td>0</td>\n",
       "      <td>0</td>\n",
       "      <td>0</td>\n",
       "      <td>...</td>\n",
       "      <td>0</td>\n",
       "      <td>0</td>\n",
       "      <td>0</td>\n",
       "      <td>0</td>\n",
       "      <td>0</td>\n",
       "      <td>0</td>\n",
       "      <td>0</td>\n",
       "      <td>0</td>\n",
       "      <td>0</td>\n",
       "      <td>0</td>\n",
       "    </tr>\n",
       "    <tr>\n",
       "      <th>2</th>\n",
       "      <td>1200</td>\n",
       "      <td>2</td>\n",
       "      <td>2</td>\n",
       "      <td>1</td>\n",
       "      <td>0</td>\n",
       "      <td>0</td>\n",
       "      <td>0</td>\n",
       "      <td>0</td>\n",
       "      <td>0</td>\n",
       "      <td>0</td>\n",
       "      <td>...</td>\n",
       "      <td>0</td>\n",
       "      <td>0</td>\n",
       "      <td>0</td>\n",
       "      <td>0</td>\n",
       "      <td>0</td>\n",
       "      <td>0</td>\n",
       "      <td>0</td>\n",
       "      <td>0</td>\n",
       "      <td>0</td>\n",
       "      <td>0</td>\n",
       "    </tr>\n",
       "  </tbody>\n",
       "</table>\n",
       "<p>3 rows × 268 columns</p>\n",
       "</div>"
      ],
      "text/plain": [
       "   total_sqft  bhk  bathroom  Abids  Adibatla  Alkapuri  Allwyn Colony  \\\n",
       "0        1600    3         2      1         0         0              0   \n",
       "1        1500    3         2      1         0         0              0   \n",
       "2        1200    2         2      1         0         0              0   \n",
       "\n",
       "   Almas guda  Ambedkar Nagar  Amberpet  ...  Vijaya Nagar Colony  \\\n",
       "0           0               0         0  ...                    0   \n",
       "1           0               0         0  ...                    0   \n",
       "2           0               0         0  ...                    0   \n",
       "\n",
       "   Vittal Rao Nagar  Whitefield  Yellareddyguda  YousufGuda  barkatpura  \\\n",
       "0                 0           0               0           0           0   \n",
       "1                 0           0               0           0           0   \n",
       "2                 0           0               0           0           0   \n",
       "\n",
       "   chandrayangutta  kompalli  kompally near by dulapalli  kuntloor  \n",
       "0                0         0                           0         0  \n",
       "1                0         0                           0         0  \n",
       "2                0         0                           0         0  \n",
       "\n",
       "[3 rows x 268 columns]"
      ]
     },
     "execution_count": 37,
     "metadata": {},
     "output_type": "execute_result"
    }
   ],
   "source": [
    "X = df8.drop(['price'],axis='columns')\n",
    "X.head(3)\n"
   ]
  },
  {
   "cell_type": "code",
   "execution_count": 38,
   "metadata": {},
   "outputs": [
    {
     "data": {
      "text/plain": [
       "(5586, 268)"
      ]
     },
     "execution_count": 38,
     "metadata": {},
     "output_type": "execute_result"
    }
   ],
   "source": [
    "X.shape"
   ]
  },
  {
   "cell_type": "code",
   "execution_count": 39,
   "metadata": {},
   "outputs": [
    {
     "data": {
      "text/plain": [
       "0    11000000\n",
       "1     9750000\n",
       "2     7800000\n",
       "Name: price, dtype: int64"
      ]
     },
     "execution_count": 39,
     "metadata": {},
     "output_type": "execute_result"
    }
   ],
   "source": [
    "\n",
    "y = df8.price\n",
    "y.head(3)"
   ]
  },
  {
   "cell_type": "code",
   "execution_count": 40,
   "metadata": {},
   "outputs": [
    {
     "data": {
      "text/plain": [
       "5586"
      ]
     },
     "execution_count": 40,
     "metadata": {},
     "output_type": "execute_result"
    }
   ],
   "source": [
    "len(y)"
   ]
  },
  {
   "cell_type": "markdown",
   "metadata": {},
   "source": [
    "# Building a Model"
   ]
  },
  {
   "cell_type": "code",
   "execution_count": 41,
   "metadata": {},
   "outputs": [],
   "source": [
    "from sklearn.model_selection import train_test_split\n",
    "X_train, X_test, y_train, y_test = train_test_split(X,y,test_size=0.2,random_state=10)"
   ]
  },
  {
   "cell_type": "code",
   "execution_count": 42,
   "metadata": {},
   "outputs": [
    {
     "data": {
      "text/plain": [
       "0.7992207541150769"
      ]
     },
     "execution_count": 42,
     "metadata": {},
     "output_type": "execute_result"
    }
   ],
   "source": [
    "from sklearn.linear_model import LinearRegression\n",
    "lr_clf = LinearRegression()\n",
    "lr_clf.fit(X_train,y_train)\n",
    "lr_clf.score(X_test,y_test)"
   ]
  },
  {
   "cell_type": "markdown",
   "metadata": {},
   "source": [
    "# Find best model using GridSearchCV"
   ]
  },
  {
   "cell_type": "code",
   "execution_count": 43,
   "metadata": {},
   "outputs": [
    {
     "data": {
      "text/html": [
       "<div>\n",
       "<style scoped>\n",
       "    .dataframe tbody tr th:only-of-type {\n",
       "        vertical-align: middle;\n",
       "    }\n",
       "\n",
       "    .dataframe tbody tr th {\n",
       "        vertical-align: top;\n",
       "    }\n",
       "\n",
       "    .dataframe thead th {\n",
       "        text-align: right;\n",
       "    }\n",
       "</style>\n",
       "<table border=\"1\" class=\"dataframe\">\n",
       "  <thead>\n",
       "    <tr style=\"text-align: right;\">\n",
       "      <th></th>\n",
       "      <th>model</th>\n",
       "      <th>best_score</th>\n",
       "      <th>best_params</th>\n",
       "    </tr>\n",
       "  </thead>\n",
       "  <tbody>\n",
       "    <tr>\n",
       "      <th>0</th>\n",
       "      <td>linear_regression</td>\n",
       "      <td>0.787279</td>\n",
       "      <td>{'normalize': False}</td>\n",
       "    </tr>\n",
       "    <tr>\n",
       "      <th>1</th>\n",
       "      <td>lasso</td>\n",
       "      <td>0.787286</td>\n",
       "      <td>{'alpha': 2, 'selection': 'cyclic'}</td>\n",
       "    </tr>\n",
       "    <tr>\n",
       "      <th>2</th>\n",
       "      <td>decision_tree</td>\n",
       "      <td>0.722395</td>\n",
       "      <td>{'criterion': 'mse', 'splitter': 'random'}</td>\n",
       "    </tr>\n",
       "  </tbody>\n",
       "</table>\n",
       "</div>"
      ],
      "text/plain": [
       "               model  best_score                                 best_params\n",
       "0  linear_regression    0.787279                        {'normalize': False}\n",
       "1              lasso    0.787286         {'alpha': 2, 'selection': 'cyclic'}\n",
       "2      decision_tree    0.722395  {'criterion': 'mse', 'splitter': 'random'}"
      ]
     },
     "execution_count": 43,
     "metadata": {},
     "output_type": "execute_result"
    }
   ],
   "source": [
    "from sklearn.model_selection import GridSearchCV\n",
    "\n",
    "from sklearn.linear_model import Lasso\n",
    "from sklearn.tree import DecisionTreeRegressor\n",
    "from sklearn.model_selection import ShuffleSplit\n",
    "\n",
    "def find_best_model_using_gridsearchcv(X,y):\n",
    "    algos = {\n",
    "        'linear_regression' : {\n",
    "            'model': LinearRegression(),\n",
    "            'params': {\n",
    "                'normalize': [True, False]\n",
    "            }\n",
    "        },\n",
    "        'lasso': {\n",
    "            'model': Lasso(),\n",
    "            'params': {\n",
    "                'alpha': [1,2],\n",
    "                'selection': ['random', 'cyclic']\n",
    "            }\n",
    "        },\n",
    "        'decision_tree': {\n",
    "            'model': DecisionTreeRegressor(),\n",
    "            'params': {\n",
    "                'criterion' : ['mse','friedman_mse'],\n",
    "                'splitter': ['best','random']\n",
    "            }\n",
    "        }\n",
    "    }\n",
    "    scores = []\n",
    "    cv = ShuffleSplit(n_splits=5, test_size=0.2, random_state=0)\n",
    "    for algo_name, config in algos.items():\n",
    "        gs =  GridSearchCV(config['model'], config['params'], cv=cv, return_train_score=False)\n",
    "        gs.fit(X,y)\n",
    "        scores.append({\n",
    "            'model': algo_name,\n",
    "            'best_score': gs.best_score_,\n",
    "            'best_params': gs.best_params_\n",
    "        })\n",
    "\n",
    "    return pd.DataFrame(scores,columns=['model','best_score','best_params'])\n",
    "\n",
    "find_best_model_using_gridsearchcv(X,y)"
   ]
  },
  {
   "cell_type": "markdown",
   "metadata": {},
   "source": [
    "# Test the model\n"
   ]
  },
  {
   "cell_type": "code",
   "execution_count": 44,
   "metadata": {},
   "outputs": [],
   "source": [
    "def predict_price(location,sqft,bath,bhk):    \n",
    "    loc_index = np.where(X.columns==location)[0][0]\n",
    "\n",
    "    x = np.zeros(len(X.columns))\n",
    "    x[0] = sqft\n",
    "    x[1] = bath\n",
    "    x[2] = bhk\n",
    "    if loc_index >= 0:\n",
    "        x[loc_index] = 1\n",
    "\n",
    "    return lr_clf.predict([x])[0]"
   ]
  },
  {
   "cell_type": "code",
   "execution_count": 45,
   "metadata": {},
   "outputs": [
    {
     "data": {
      "text/plain": [
       "7681361.69324537"
      ]
     },
     "execution_count": 45,
     "metadata": {},
     "output_type": "execute_result"
    }
   ],
   "source": [
    "predict_price('Gachibowli',1000, 2, 2)"
   ]
  },
  {
   "cell_type": "code",
   "execution_count": 46,
   "metadata": {},
   "outputs": [
    {
     "data": {
      "text/plain": [
       "15580787.459294157"
      ]
     },
     "execution_count": 46,
     "metadata": {},
     "output_type": "execute_result"
    }
   ],
   "source": [
    "predict_price('Gachibowli',2000, 3, 3)"
   ]
  },
  {
   "cell_type": "code",
   "execution_count": 47,
   "metadata": {},
   "outputs": [
    {
     "data": {
      "text/plain": [
       "6323919.296898108"
      ]
     },
     "execution_count": 47,
     "metadata": {},
     "output_type": "execute_result"
    }
   ],
   "source": [
    "predict_price('Gachibowli',1000, 3, 2)"
   ]
  },
  {
   "cell_type": "code",
   "execution_count": 48,
   "metadata": {},
   "outputs": [
    {
     "data": {
      "text/plain": [
       "7681361.69324537"
      ]
     },
     "execution_count": 48,
     "metadata": {},
     "output_type": "execute_result"
    }
   ],
   "source": [
    "predict_price('Gachibowli',1000, 2, 2)"
   ]
  },
  {
   "cell_type": "code",
   "execution_count": 49,
   "metadata": {},
   "outputs": [
    {
     "data": {
      "text/plain": [
       "8408351.977199117"
      ]
     },
     "execution_count": 49,
     "metadata": {},
     "output_type": "execute_result"
    }
   ],
   "source": [
    "predict_price('Gachibowli',1000, 2, 3)"
   ]
  },
  {
   "cell_type": "code",
   "execution_count": 50,
   "metadata": {},
   "outputs": [
    {
     "data": {
      "text/plain": [
       "41800873.20701459"
      ]
     },
     "execution_count": 50,
     "metadata": {},
     "output_type": "execute_result"
    }
   ],
   "source": [
    "predict_price('Gachibowli',5000, 2, 2)"
   ]
  },
  {
   "cell_type": "code",
   "execution_count": 51,
   "metadata": {},
   "outputs": [],
   "source": [
    "import pickle\n",
    "with open('Hyderabad_home_prices_model.pickle','wb') as f:\n",
    "    pickle.dump(lr_clf,f)"
   ]
  },
  {
   "cell_type": "code",
   "execution_count": 52,
   "metadata": {},
   "outputs": [],
   "source": [
    "import json\n",
    "columns = {\n",
    "    'data_columns' : [col.lower() for col in X.columns]\n",
    "}\n",
    "with open(\"columns.json\",\"w\") as f:\n",
    "    f.write(json.dumps(columns))"
   ]
  },
  {
   "cell_type": "code",
   "execution_count": null,
   "metadata": {},
   "outputs": [],
   "source": []
  }
 ],
 "metadata": {
  "kernelspec": {
   "display_name": "Python 3",
   "language": "python",
   "name": "python3"
  },
  "language_info": {
   "codemirror_mode": {
    "name": "ipython",
    "version": 3
   },
   "file_extension": ".py",
   "mimetype": "text/x-python",
   "name": "python",
   "nbconvert_exporter": "python",
   "pygments_lexer": "ipython3",
   "version": "3.7.6"
  }
 },
 "nbformat": 4,
 "nbformat_minor": 4
}
